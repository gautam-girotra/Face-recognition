{
 "cells": [
  {
   "cell_type": "markdown",
   "metadata": {},
   "source": [
    "# FACE RECOGNITION"
   ]
  },
  {
   "cell_type": "markdown",
   "metadata": {},
   "source": [
    "## Import the required libraries. "
   ]
  },
  {
   "cell_type": "code",
   "execution_count": 1,
   "metadata": {},
   "outputs": [],
   "source": [
    "import numpy as np\n",
    "import os\n",
    "import tensorflow as tf\n",
    "os.environ['TF_CPP_MIN_LOG_LEVEL'] = '3'\n",
    "from PIL import Image\n",
    "from keras.models import load_model\n",
    "import mtcnn\n"
   ]
  },
  {
   "cell_type": "markdown",
   "metadata": {},
   "source": [
    "## For face recognition, we will first need to locate the face in an image.\n",
    "### The following function takes an image as input and returns just the face as an array of intensity values. "
   ]
  },
  {
   "cell_type": "code",
   "execution_count": 17,
   "metadata": {},
   "outputs": [],
   "source": [
    "def get_face_array(file,required_size=(160,160)):\n",
    "    image=Image.open(file)\n",
    "    image_pixels=np.asarray(image)\n",
    "    detector=mtcnn.MTCNN()\n",
    "    box=detector.detect_faces(image_pixels)\n",
    "    x1,y1,width,height=box[0]['box']\n",
    "    x1,y1=abs(x1),abs(y1) # Taking absolute values in case we get negative values.\n",
    "    x2,y2=x1+width,y1+height\n",
    "    face_pixels=image_pixels[y1:y2,x1:x2]\n",
    "    face_image=Image.fromarray(face_pixels)\n",
    "    face_image=face_image.resize(required_size)\n",
    "    face_array=np.asarray(face_image)\n",
    "    return face_array"
   ]
  },
  {
   "cell_type": "markdown",
   "metadata": {},
   "source": [
    "### I have a set of images stored in the form of  'name.extension' . This function converts the images into two arrays-one with names and the other with the face arrays.  "
   ]
  },
  {
   "cell_type": "code",
   "execution_count": 16,
   "metadata": {},
   "outputs": [],
   "source": [
    "def make_dataset(directory):\n",
    "    face_arrays,names=[],[]\n",
    "    for file in os.listdir(directory):\n",
    "        path=directory+file\n",
    "        base=os.path.basename(path)\n",
    "        name=os.path.splitext(base)[0]        \n",
    "        names.append(name)\n",
    "        face_array=get_face_array(path)\n",
    "        face_arrays.append(face_array)\n",
    "    return np.asarray(face_arrays),np.asarray(names)"
   ]
  },
  {
   "cell_type": "code",
   "execution_count": 14,
   "metadata": {
    "scrolled": false
   },
   
   "source": [
    "face_arrays,names=make_dataset('face-recognition/')"
   ]
  },
  {
   "cell_type": "markdown",
   "metadata": {},
   "source": [
    "### We pass the face arrays through the model  to get embeddings.Then we create a database which is a dictionary with keys as names and values as embeddings."
   ]
  },
  {
   "cell_type": "code",
   "execution_count": 5,
   "metadata": {},
   "outputs": [],
   "source": [
    "def generate_embedding(face_array,model):\n",
    "    normalized_data=face_array/255\n",
    "    embedding=model.predict(np.expand_dims(normalized_data,axis=0))\n",
    "    return embedding"
   ]
  },
  {
   "cell_type": "code",
   "execution_count": 6,
   "metadata": {},
   "outputs": [],
   "source": [
    "def generate_database(face_arrays,names,model):\n",
    "    database={}\n",
    "    for i in range(len(names)):\n",
    "        database[names[i]]=generate_embedding(face_arrays[i],model)\n",
    "    return database\n",
    "    \n",
    "    "
   ]
  },
  {
   "cell_type": "markdown",
   "metadata": {},
   "source": [
    "### We use the facenet model. "
   ]
  },
  {
   "cell_type": "code",
   "execution_count": 7,
   "metadata": {},
   "outputs": [
    {
     "name": "stdout",
     "output_type": "stream",
     "text": [
      "WARNING:tensorflow:No training configuration found in the save file, so the model was *not* compiled. Compile it manually.\n"
     ]
    }
   ],
   "source": [
    "model=load_model('facenet_keras.h5')"
   ]
  },
  {
   "cell_type": "code",
   "execution_count": 8,
   "metadata": {},
   "outputs": [
    {
     "name": "stdout",
     "output_type": "stream",
     "text": [
      "WARNING:tensorflow:AutoGraph could not transform <function Model.make_predict_function.<locals>.predict_function at 0x00000168F6624798> and will run it as-is.\n",
      "Please report this to the TensorFlow team. When filing the bug, set the verbosity to 10 (on Linux, `export AUTOGRAPH_VERBOSITY=10`) and attach the full output.\n",
      "Cause: 'arguments' object has no attribute 'posonlyargs'\n",
      "To silence this warning, decorate the function with @tf.autograph.experimental.do_not_convert\n",
      "WARNING: AutoGraph could not transform <function Model.make_predict_function.<locals>.predict_function at 0x00000168F6624798> and will run it as-is.\n",
      "Please report this to the TensorFlow team. When filing the bug, set the verbosity to 10 (on Linux, `export AUTOGRAPH_VERBOSITY=10`) and attach the full output.\n",
      "Cause: 'arguments' object has no attribute 'posonlyargs'\n",
      "To silence this warning, decorate the function with @tf.autograph.experimental.do_not_convert\n"
     ]
    }
   ],
   "source": [
    "database=generate_database(face_arrays,names,model)"
   ]
  },
  {
   "cell_type": "markdown",
   "metadata": {},
   "source": [
    "### Saving the created database for future use. "
   ]
  },
  {
   "cell_type": "code",
   "execution_count": 9,
   "metadata": {},
   "outputs": [],
   "source": [
    "np.savez_compressed('face-recognition-full-embeddings-database',database)"
   ]
  },
  {
   "cell_type": "markdown",
   "metadata": {},
   "source": [
    "### Finally predicting the identity of the person in the test image.  "
   ]
  },
  {
   "cell_type": "code",
   "execution_count": 18,
   "metadata": {},
   "outputs": [],
   "source": [
    "def predict(database,file):\n",
    "    face_array=get_face_array(file)\n",
    "    file_embedding=generate_embedding(face_array,model)\n",
    "    min_dist=100    #Initialising the distance between test image and stored embeddings to be a large number.\n",
    "    for (name,database_embedding) in database.items():\n",
    "        dist = np.linalg.norm(file_embedding-database_embedding)\n",
    "        if dist<min_dist:\n",
    "            min_dist=dist\n",
    "            identity=name\n",
    "    if min_dist>10:\n",
    "        print(\"Person not in database\")\n",
    "    else:\n",
    "        print(f\"Person is {str(identity)} and distance is {min_dist}\" )\n",
    "    return _"
   ]
  },
  {
   "cell_type": "markdown",
   "metadata": {},
   "source": [
    "### Predicitng for person not in database. "
   ]
  },
  {
   "cell_type": "code",
   "execution_count": 19,
   "metadata": {},
   "outputs": [
    {
     "name": "stdout",
     "output_type": "stream",
     "text": [

      "Person not in database\n"
     ]
    }
   ],
   "source": [
    "_=predict(database,'rayudu.jpg')"
   ]
  },
  {
   "cell_type": "markdown",
   "metadata": {},
   "source": [
    "### Predicting for person in database. "
   ]
  },
  {
   "cell_type": "code",
   "execution_count": 12,
   "metadata": {},
   "outputs": [
    {
     "name": "stdout",
     "output_type": "stream",
     "text": [
      "Person is rohit and distance is 6.888304233551025\n"
     ]
    }
   ],
   "source": [
    "_=predict(database,'rohit_sharma_test.jpg')"
   ]
  }
 ],
 "metadata": {
  "kernelspec": {
   "display_name": "Python 3",
   "language": "python",
   "name": "python3"
  },
  "language_info": {
   "codemirror_mode": {
    "name": "ipython",
    "version": 3
   },
   "file_extension": ".py",
   "mimetype": "text/x-python",
   "name": "python",
   "nbconvert_exporter": "python",
   "pygments_lexer": "ipython3",
   "version": "3.7.9"
  }
 },
 "nbformat": 4,
 "nbformat_minor": 4
}
